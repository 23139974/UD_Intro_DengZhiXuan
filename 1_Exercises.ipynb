{
 "cells": [
  {
   "cell_type": "markdown",
   "id": "38e188a5",
   "metadata": {},
   "source": [
    "# Exercise 00\n",
    "Write a piece of code that allocates a list of 20 integers and initializes each element by its index multiplied by 5. Print the result."
   ]
  },
  {
   "cell_type": "code",
   "execution_count": 21,
   "id": "9d0e08c3-742e-4790-9cc1-b12a545add09",
   "metadata": {},
   "outputs": [
    {
     "name": "stdout",
     "output_type": "stream",
     "text": [
      "[0, 5, 10, 15, 20, 25, 30, 35, 40, 45, 50, 55, 60, 65, 70, 75, 80, 85, 90, 95]\n"
     ]
    }
   ],
   "source": [
    "list=[]\n",
    "for x in range(20):\n",
    "    x=x*5\n",
    "    list.append(x)\n",
    "\n",
    "print(list)"
   ]
  },
  {
   "cell_type": "markdown",
   "id": "529d91ae",
   "metadata": {},
   "source": [
    "# Exercise 01\n",
    "Define a function that takes an integer as input, prints  all integers that it is divisable by, and returns the largest one."
   ]
  },
  {
   "cell_type": "code",
   "execution_count": 80,
   "id": "6218458e-94e3-464c-b031-5b686b9c9f4c",
   "metadata": {},
   "outputs": [],
   "source": [
    "def divisor(x):\n",
    "    for i in range(1,int(2/x)+1):\n",
    "        if x%i==0:\n",
    "            div=i\n",
    "            print(i)\n",
    "    return div"
   ]
  },
  {
   "cell_type": "code",
   "execution_count": 81,
   "id": "7ae3863b-062a-42dc-af88-e1d01fd42e57",
   "metadata": {},
   "outputs": [
    {
     "name": "stdout",
     "output_type": "stream",
     "text": [
      "1\n",
      "2\n",
      "3\n",
      "4\n",
      "6\n",
      "12\n",
      "23\n",
      "46\n",
      "69\n",
      "92\n",
      "138\n"
     ]
    },
    {
     "data": {
      "text/plain": [
       "138"
      ]
     },
     "execution_count": 81,
     "metadata": {},
     "output_type": "execute_result"
    }
   ],
   "source": [
    "divisors(276)"
   ]
  },
  {
   "cell_type": "markdown",
   "id": "cfbe30d4",
   "metadata": {},
   "source": [
    "# Exercise 02\n",
    "- create a dictionary with 6 keys and values of your choice\n",
    "- write a function that takes a dictionary and a value as input and returns whether the value occurs as a key in the dictionary\n",
    "- write a function that takes a dictionary as input, and returns the dictionary but the keys are swapped with their values (resolve the issue if a value occurs twice!)"
   ]
  },
  {
   "cell_type": "code",
   "execution_count": 91,
   "id": "2123f1c6",
   "metadata": {},
   "outputs": [],
   "source": [
    "thisDict={\n",
    "    \"object\":\"desk\",\n",
    "    \"area\":\"canteen\",\n",
    "    \"scale\":\"big\",\n",
    "    \"year\":\"2024\",\n",
    "    \"material\":\"wood\",\n",
    "    \"colour\":\"brown\"}"
   ]
  },
  {
   "cell_type": "code",
   "execution_count": 107,
   "id": "270353f0-e9be-4755-bee6-e6c5cacc737c",
   "metadata": {},
   "outputs": [],
   "source": [
    "def dictionary(x,y):\n",
    "    for i in x.keys():\n",
    "        if y==i:\n",
    "            return True\n",
    "    return False"
   ]
  },
  {
   "cell_type": "code",
   "execution_count": 110,
   "id": "417051a2-021e-4390-814f-b15f6aaf7760",
   "metadata": {},
   "outputs": [
    {
     "data": {
      "text/plain": [
       "True"
      ]
     },
     "execution_count": 110,
     "metadata": {},
     "output_type": "execute_result"
    }
   ],
   "source": [
    "dictionary(thisDict,\"year\")"
   ]
  },
  {
   "cell_type": "code",
   "execution_count": 125,
   "id": "119c04ba-45ff-49b0-870f-fcddc82f196c",
   "metadata": {},
   "outputs": [
    {
     "ename": "SyntaxError",
     "evalue": "cannot assign to function call here. Maybe you meant '==' instead of '='? (1829851779.py, line 15)",
     "output_type": "error",
     "traceback": [
      "\u001b[1;36m  Cell \u001b[1;32mIn[125], line 15\u001b[1;36m\u001b[0m\n\u001b[1;33m    my_list(x[i])=i\u001b[0m\n\u001b[1;37m    ^\u001b[0m\n\u001b[1;31mSyntaxError\u001b[0m\u001b[1;31m:\u001b[0m cannot assign to function call here. Maybe you meant '==' instead of '='?\n"
     ]
    }
   ],
   "source": [
    "Dict1={\n",
    "    \"animal\":\"rabbit\",\n",
    "    \"habits\":\"eat glass\",\n",
    "    \"eye\":\"red\",\n",
    "    \"colour\":\"red\"}\n",
    "\n",
    "def swapdictionary(x):\n",
    "    my_list = {}\n",
    "    for i in x.keys():\n",
    "        if dictionary(my_list,x[i]):\n",
    "            current_value = my_list[x[i]]\n",
    "            now_value = [current_value,i]\n",
    "            my_list[x[i]] = current_value\n",
    "        else:\n",
    "            my_list(x[i])=i\n",
    "    return my_list\n",
    "swapdictionary(Dict1)"
   ]
  },
  {
   "cell_type": "code",
   "execution_count": null,
   "id": "cc7ae089-9fd8-4319-8a6c-8df137ec0cf8",
   "metadata": {},
   "outputs": [],
   "source": []
  },
  {
   "cell_type": "markdown",
   "id": "b4b4e426",
   "metadata": {},
   "source": [
    "# Exercise 03\n",
    "Define a function that creates a dictionary of the first n fibonacci numbers as values paired with their indices as keys. "
   ]
  },
  {
   "cell_type": "code",
   "execution_count": 134,
   "id": "7845b5a4",
   "metadata": {},
   "outputs": [],
   "source": [
    "def fibonacci(x):\n",
    "    fibonacci={}\n",
    "    n1=0\n",
    "    n2=1\n",
    "    for i in range(x):\n",
    "        fibonacci[x]=n1\n",
    "        m=n1+n2\n",
    "        n1=n2\n",
    "        n2=m\n",
    "    return fibonacci"
   ]
  },
  {
   "cell_type": "code",
   "execution_count": 140,
   "id": "7709d213-f1ec-4fc2-a7c3-f9675949dc88",
   "metadata": {},
   "outputs": [
    {
     "data": {
      "text/plain": [
       "{10: 34}"
      ]
     },
     "execution_count": 140,
     "metadata": {},
     "output_type": "execute_result"
    }
   ],
   "source": [
    "fibonacciDict(10)"
   ]
  },
  {
   "cell_type": "code",
   "execution_count": null,
   "id": "2fcff126-ec36-461c-8b73-6f63f3a3987c",
   "metadata": {},
   "outputs": [],
   "source": []
  }
 ],
 "metadata": {
  "kernelspec": {
   "display_name": "Python 3 (ipykernel)",
   "language": "python",
   "name": "python3"
  },
  "language_info": {
   "codemirror_mode": {
    "name": "ipython",
    "version": 3
   },
   "file_extension": ".py",
   "mimetype": "text/x-python",
   "name": "python",
   "nbconvert_exporter": "python",
   "pygments_lexer": "ipython3",
   "version": "3.11.10"
  }
 },
 "nbformat": 4,
 "nbformat_minor": 5
}
